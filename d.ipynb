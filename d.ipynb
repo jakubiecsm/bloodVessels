{
 "cells": [
  {
   "cell_type": "code",
   "execution_count": null,
   "id": "96e73f2c",
   "metadata": {},
   "outputs": [
    {
     "name": "stdout",
     "output_type": "stream",
     "text": [
      "value:1\n"
     ]
    },
    {
     "name": "stderr",
     "output_type": "stream",
     "text": [
      "D:\\Drive\\Studia\\Informatyka\\semestr6\\IwM\\bloodVessels\\SimpleImageProcessor.py:34: UserWarning: Possible precision loss converting image of type float64 to uint8 as required by rank filters. Convert manually using skimage.util.img_as_ubyte to silence this warning.\n",
      "  image = normalize(convert_to_gray(extract_green(image)), selem_size)\n"
     ]
    }
   ],
   "source": [
    "import ImageLoader as loader\n",
    "import copy\n",
    "import SimpleImageProcessor as sip\n",
    "from matplotlib import pylab as plt\n",
    "plt.rcParams[\"figure.figsize\"] = (15,10)\n",
    "\n",
    "image_list = loader.load_images('healthy', 'jpg')\n",
    "\n",
    "# imgplot = plt.imshow(sip.process_image1(copy.deepcopy(image_list[8])), 'gray')\n",
    "# plt.show()\n",
    "\n",
    "for i in range(20):\n",
    "    print(\"value:\" + str(1 + i))\n",
    "    imgplot = plt.imshow(sip.process_image(image_list[8], i + 1), 'gray')\n",
    "    plt.show()\n",
    "\n",
    "# for j in range(20):\n",
    "#     print(\"size:\" + str(j+1))\n",
    "#     imgplot = plt.imshow(sip.process_image(image_list[8], 30, 30, 10), 'gray')\n",
    "#     plt.show()\n"
   ]
  }
 ],
 "metadata": {
  "kernelspec": {
   "display_name": "Python 3",
   "language": "python",
   "name": "python3"
  },
  "language_info": {
   "codemirror_mode": {
    "name": "ipython",
    "version": 3
   },
   "file_extension": ".py",
   "mimetype": "text/x-python",
   "name": "python",
   "nbconvert_exporter": "python",
   "pygments_lexer": "ipython3",
   "version": "3.8.6"
  }
 },
 "nbformat": 4,
 "nbformat_minor": 5
}
